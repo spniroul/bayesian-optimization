{
  "nbformat": 4,
  "nbformat_minor": 0,
  "metadata": {
    "colab": {
      "provenance": [],
      "authorship_tag": "ABX9TyM1cDMSksx58qhAR1aI0GS2",
      "include_colab_link": true
    },
    "kernelspec": {
      "name": "python3",
      "display_name": "Python 3"
    },
    "language_info": {
      "name": "python"
    }
  },
  "cells": [
    {
      "cell_type": "markdown",
      "metadata": {
        "id": "view-in-github",
        "colab_type": "text"
      },
      "source": [
        "<a href=\"https://colab.research.google.com/github/spniroul/bayesian-optimization/blob/main/BayesianOpt.ipynb\" target=\"_parent\"><img src=\"https://colab.research.google.com/assets/colab-badge.svg\" alt=\"Open In Colab\"/></a>"
      ]
    },
    {
      "cell_type": "markdown",
      "source": [
        "# Python Script"
      ],
      "metadata": {
        "id": "e3RR_-wifwfi"
      }
    },
    {
      "cell_type": "code",
      "source": [
        "!pip install bayesian-optimization"
      ],
      "metadata": {
        "id": "ZHBuodLm-7PM"
      },
      "execution_count": null,
      "outputs": []
    },
    {
      "cell_type": "markdown",
      "source": [
        "Phase 1:"
      ],
      "metadata": {
        "id": "eDPn1vaagBSA"
      }
    },
    {
      "cell_type": "code",
      "source": [
        "import numpy as np\n",
        "import pandas as pd\n",
        "import matplotlib.pyplot as plt\n",
        "from sklearn.neural_network import MLPClassifier\n",
        "from sklearn.preprocessing import StandardScaler\n",
        "from bayes_opt import BayesianOptimization\n",
        "\n",
        "#Loading MNIST Dataset\n",
        "mnist_test = pd.read_csv('sample_data/mnist_test.csv')\n",
        "Y_test = mnist_test.iloc[:, 0].values\n",
        "X_test = mnist_test.iloc[:, 1:].values\n",
        "\n",
        "mnist_train = pd.read_csv('sample_data/mnist_train_small.csv')\n",
        "Y_train = mnist_train.iloc[:, 0].values\n",
        "X_train = mnist_train.iloc[:, 1:].values\n",
        "\n",
        "#Normalizing pixel values\n",
        "scaler = StandardScaler()\n",
        "X_train = scaler.fit_transform(X_train)\n",
        "X_test = scaler.transform(X_test)\n",
        "\n",
        "#Objective Function for BO\n",
        "def obj_func(alpha, learning_rate):\n",
        "    model = MLPClassifier(\n",
        "        hidden_layer_sizes=(64,),  #Fixed Hidden Layer\n",
        "        activation=\"relu\",\n",
        "        alpha=alpha,\n",
        "        learning_rate_init=learning_rate,\n",
        "        max_iter=30,\n",
        "        random_state=7,\n",
        "    )\n",
        "    model.fit(X_train, Y_train)\n",
        "    return model.score(X_test, Y_test)\n",
        "\n",
        "#Parameter Bounds\n",
        "bounds = {\n",
        "    \"alpha\": (1e-5, 0.1),\n",
        "    \"learning_rate\": (1e-4, 0.1),\n",
        "}\n",
        "\n",
        "#Running Optimizer\n",
        "optimizer = BayesianOptimization(f=obj_func, pbounds=bounds, random_state=7)\n",
        "optimizer.maximize(init_points=2, n_iter=5)\n",
        "\n",
        "#Extracting parameter trace\n",
        "params_df = pd.DataFrame([res[\"params\"] for res in optimizer.res])\n",
        "params_df[\"Iteration\"] = range(1, len(params_df) + 1)\n",
        "\n",
        "#Normalizing parameter values\n",
        "from sklearn.preprocessing import MinMaxScaler\n",
        "scaler = MinMaxScaler()\n",
        "normalized_params = scaler.fit_transform(params_df[[\"alpha\", \"learning_rate\"]])\n",
        "normalized_df = pd.DataFrame(normalized_params, columns=[\"alpha\", \"learning_rate\"])\n",
        "normalized_df[\"Iteration\"] = params_df[\"Iteration\"]\n",
        "\n",
        "#Plotting parameter traces\n",
        "plt.figure(figsize=(10, 6))\n",
        "for param in [\"alpha\", \"learning_rate\"]:\n",
        "    plt.plot(normalized_df[\"Iteration\"], normalized_df[param], marker='o', label=param)\n",
        "\n",
        "plt.xlabel(\"Iterations\")\n",
        "plt.ylabel(\"Normalized Parameter Values\")\n",
        "plt.title(\"Parameter Traces\")\n",
        "plt.legend()\n",
        "plt.grid(True)\n",
        "plt.tight_layout()\n",
        "plt.show()\n",
        "\n",
        "#Plotting convergence\n",
        "iterations = list(range(1, len(optimizer.space.target) + 1))\n",
        "targets = optimizer.space.target\n",
        "\n",
        "plt.figure(figsize=(8, 5))\n",
        "plt.plot(iterations, targets, marker='o')\n",
        "plt.xlabel(\"Iterations\")\n",
        "plt.ylabel(\"Accuracy\")\n",
        "plt.title(\"Convergence\")\n",
        "plt.grid(True)\n",
        "plt.tight_layout()\n",
        "plt.show()\n",
        "\n",
        "#Print results\n",
        "print(\"Best Parameters: \", optimizer.max[\"params\"])\n",
        "print(\"Best Accuracy: \", optimizer.max[\"target\"])\n"
      ],
      "metadata": {
        "id": "MMeKjBwQOQtd"
      },
      "execution_count": null,
      "outputs": []
    },
    {
      "cell_type": "markdown",
      "source": [
        "Phase 2:"
      ],
      "metadata": {
        "id": "T_gIj9rNgGLB"
      }
    },
    {
      "cell_type": "code",
      "execution_count": null,
      "metadata": {
        "id": "5RyenAe3-2Vs"
      },
      "outputs": [],
      "source": [
        "import numpy as np\n",
        "import pandas as pd\n",
        "import matplotlib.pyplot as plt\n",
        "from sklearn.preprocessing import MinMaxScaler\n",
        "from sklearn.neural_network import MLPClassifier\n",
        "from sklearn.preprocessing import StandardScaler\n",
        "from bayes_opt import BayesianOptimization\n",
        "\n",
        "#Loading MNIST Dataset\n",
        "mnist_test = pd.read_csv('sample_data/mnist_test.csv')\n",
        "Y_test = mnist_test.iloc[:,0].values\n",
        "X_test = mnist_test.iloc[:,1:].values\n",
        "\n",
        "mnist_train = pd.read_csv('sample_data/mnist_train_small.csv')\n",
        "Y_train = mnist_train.iloc[:,0].values\n",
        "X_train = mnist_train.iloc[:,1:].values\n",
        "\n",
        "#Normalizing pixel values\n",
        "scaler = StandardScaler()\n",
        "X_train = scaler.fit_transform(X_train)\n",
        "X_test = scaler.transform(X_test)\n",
        "\n",
        "#Objective Function for BO\n",
        "def obj_func(alpha, learning_rate, hidden_layer_size):\n",
        "    model = MLPClassifier(\n",
        "        hidden_layer_sizes=(int(hidden_layer_size),),\n",
        "        activation=\"relu\",\n",
        "        alpha=alpha,\n",
        "        learning_rate_init=learning_rate,\n",
        "        max_iter=30,\n",
        "        random_state=7,\n",
        "    )\n",
        "    model.fit(X_train, Y_train)\n",
        "    return model.score(X_test, Y_test)\n",
        "\n",
        "#Parameter Bounds\n",
        "bounds = {\n",
        "    \"alpha\": (1e-5, 0.1),\n",
        "    \"learning_rate\": (1e-4, 0.1),\n",
        "    \"hidden_layer_size\": (32, 128),\n",
        "}\n",
        "\n",
        "#Running Optimizer\n",
        "optimizer = BayesianOptimization(f=obj_func, pbounds=bounds, random_state=7)\n",
        "optimizer.maximize(init_points=2, n_iter=5)\n",
        "\n",
        "#Extracting parameter trace\n",
        "params_df = pd.DataFrame([res[\"params\"] for res in optimizer.res])\n",
        "params_df[\"Iteration\"] = range(1, len(params_df) + 1)\n",
        "\n",
        "#Normalizing parameter values\n",
        "\n",
        "scaler = MinMaxScaler()\n",
        "normalized_params = scaler.fit_transform(params_df[[\"alpha\", \"learning_rate\", \"hidden_layer_size\"]])\n",
        "normalized_df = pd.DataFrame(normalized_params, columns=[\"alpha\", \"learning_rate\", \"hidden_layer_size\"])\n",
        "normalized_df[\"Iteration\"] = params_df[\"Iteration\"]\n",
        "\n",
        "#Plotting all traces in one plot\n",
        "plt.figure(figsize=(10, 6))\n",
        "for param in [\"alpha\", \"learning_rate\", \"hidden_layer_size\"]:\n",
        "    plt.plot(normalized_df[\"Iteration\"], normalized_df[param], marker='o', label=param)\n",
        "\n",
        "plt.xlabel(\"Iterations\")\n",
        "plt.ylabel(\"Normalized Parameter Values\")\n",
        "plt.title(\"Parameter Traces\")\n",
        "plt.legend()\n",
        "plt.grid(True)\n",
        "plt.tight_layout()\n",
        "plt.show()\n",
        "\n",
        "#Plotting Convergence\n",
        "iterations = list(range(1, len(optimizer.space.target) + 1))\n",
        "targets = optimizer.space.target\n",
        "\n",
        "plt.figure(figsize=(8, 5))\n",
        "plt.plot(iterations, targets, marker='o')\n",
        "plt.xlabel(\"Iterations\")\n",
        "plt.ylabel(\"Accuracy\")\n",
        "plt.title(\"Convergence\")\n",
        "plt.grid(True)\n",
        "plt.tight_layout()\n",
        "plt.show()\n",
        "\n",
        "#Print Results\n",
        "print(\"Best Parameters: \", optimizer.max[\"params\"])\n",
        "print(\"Best Accuracy: \", optimizer.max[\"target\"])"
      ]
    }
  ]
}